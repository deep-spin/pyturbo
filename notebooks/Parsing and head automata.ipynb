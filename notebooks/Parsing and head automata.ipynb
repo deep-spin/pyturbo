{
 "cells": [
  {
   "cell_type": "markdown",
   "metadata": {},
   "source": [
    "Parsing and head automata\n",
    "----\n",
    "\n",
    "Decoding parse trees with head automata for consecutive siblings"
   ]
  },
  {
   "cell_type": "code",
   "execution_count": 1,
   "metadata": {},
   "outputs": [],
   "source": [
    "import numpy as np \n",
    "import ad3\n",
    "from ad3.extensions import PFactorTree, PFactorHeadAutomaton"
   ]
  },
  {
   "cell_type": "markdown",
   "metadata": {},
   "source": [
    "### Initialize variables and set some random scores\n",
    "\n",
    "The 2d array `scores` has the score, or log potential, for an arc from token `i` to `j` in each cell `(i, j)`\n",
    "\n",
    "To make the result more predictable, we increase the scores for `(0, 2)` and from `2` to the other tokens."
   ]
  },
  {
   "cell_type": "code",
   "execution_count": 2,
   "metadata": {},
   "outputs": [],
   "source": [
    "g = ad3.factor_graph.PFactorGraph()\n",
    "arc_variables = []\n",
    "arcs = []\n",
    "\n",
    "num_tokens = 5  # including root\n",
    "\n",
    "# create indices and scores from every node to all others\n",
    "scores = np.random.normal(0, 1, [num_tokens, num_tokens])\n",
    "\n",
    "# root is never a modifier\n",
    "scores[:, 0] -= 1000\n",
    "\n",
    "scores[0, 2] += 5\n",
    "scores[2, 1:] += 5"
   ]
  },
  {
   "cell_type": "markdown",
   "metadata": {},
   "source": [
    "### Add the tree factor to the graph\n",
    "\n",
    "The tree factor enforces that the solution is a valid dependency tree. Basically, it enforces the following constraints:\n",
    "\n",
    "* There are no cycles\n",
    "* The first token -- the root -- has exactly one outgoing arc and no incoming arcs"
   ]
  },
  {
   "cell_type": "code",
   "execution_count": 3,
   "metadata": {},
   "outputs": [],
   "source": [
    "index_arcs = np.full([num_tokens, num_tokens], -1, np.int)\n",
    "\n",
    "# suppose the arc 0 -> 1 has been pruned\n",
    "filtered_arcs = set([(0, 1)])\n",
    "\n",
    "for h in range(num_tokens):\n",
    "    for m in range(1, num_tokens):\n",
    "        if h == m or (h, m) in filtered_arcs:\n",
    "            continue\n",
    "            \n",
    "        arcs.append((h, m))\n",
    "        arc_var = g.create_binary_variable()\n",
    "        arc_var.set_log_potential(scores[h, m])\n",
    "        index_arcs[h, m] = len(arc_variables)\n",
    "        arc_variables.append(arc_var)\n",
    "\n",
    "tree = PFactorTree()\n",
    "g.declare_factor(tree, arc_variables)\n",
    "tree.initialize(num_tokens, arcs)"
   ]
  },
  {
   "cell_type": "markdown",
   "metadata": {},
   "source": [
    "Show the values of the scores for each arc"
   ]
  },
  {
   "cell_type": "code",
   "execution_count": 4,
   "metadata": {},
   "outputs": [
    {
     "name": "stdout",
     "output_type": "stream",
     "text": [
      "(0, 2) 5.7760569027915025\n",
      "(0, 3) 1.6444635700822923\n",
      "(0, 4) -0.14821278718845635\n",
      "(1, 2) 0.294288915084736\n",
      "(1, 3) 0.732306242916495\n",
      "(1, 4) -0.4432597952457511\n",
      "(2, 1) 3.132133121112913\n",
      "(2, 3) 5.495615776907177\n",
      "(2, 4) 5.764295209790005\n",
      "(3, 1) 0.5600640564813785\n",
      "(3, 2) -0.04908613842503491\n",
      "(3, 4) 0.5436349044985233\n",
      "(4, 1) 0.7770996283822647\n",
      "(4, 2) 1.0941617743846943\n",
      "(4, 3) 1.244807848924485\n"
     ]
    }
   ],
   "source": [
    "for arc in arcs:\n",
    "    h, m = arc\n",
    "    score = scores[h, m]\n",
    "    print(arc, score)"
   ]
  },
  {
   "cell_type": "markdown",
   "metadata": {},
   "source": [
    "Solve for the exact solution"
   ]
  },
  {
   "cell_type": "code",
   "execution_count": null,
   "metadata": {},
   "outputs": [],
   "source": [
    "value, posteriors, additional_posteriors, status = g.solve_exact_map_ad3()\n",
    "print(value)\n",
    "print(posteriors)\n",
    "print(additional_posteriors)\n",
    "print(status)"
   ]
  },
  {
   "cell_type": "code",
   "execution_count": 5,
   "metadata": {},
   "outputs": [],
   "source": [
    "def show_selected_items(posteriors, arcs, show_posterior=False):\n",
    "    for p, arc in zip(posteriors, arcs):\n",
    "        if p ** 2 <= 0.0001:\n",
    "            continue\n",
    "        if show_posterior:\n",
    "            print(arc, p)\n",
    "        else:\n",
    "            print(arc)\n"
   ]
  },
  {
   "cell_type": "code",
   "execution_count": null,
   "metadata": {
    "scrolled": true
   },
   "outputs": [],
   "source": [
    "show_selected_items(posteriors, arcs)"
   ]
  },
  {
   "cell_type": "markdown",
   "metadata": {},
   "source": [
    "Now, let's add next sibling features and head automata"
   ]
  },
  {
   "cell_type": "code",
   "execution_count": 6,
   "metadata": {},
   "outputs": [],
   "source": [
    "def create_empty_lists(n):\n",
    "    \"\"\"\n",
    "    Create a list with n empty lists\n",
    "    \"\"\"\n",
    "    return [[] for _ in range(n)]\n",
    "\n",
    "\n",
    "# create all possible sibling combinations considering non-pruned arcs\n",
    "sibling_parts_left = create_empty_lists(num_tokens)\n",
    "sibling_parts_right = create_empty_lists(num_tokens)\n",
    "\n",
    "for h in range(num_tokens):\n",
    "    # right side\n",
    "    for m in range(h, num_tokens):\n",
    "        if h != m and index_arcs[h, m] == -1:\n",
    "            continue\n",
    "            \n",
    "        for s in range(m + 1, num_tokens + 1):\n",
    "            # s == num_tokens signals that m is the rightmost child\n",
    "            if s < num_tokens and index_arcs[h, s] == -1:\n",
    "                continue\n",
    "            \n",
    "            sibling_part = (h, m, s)\n",
    "            sibling_parts_right[h].append(sibling_part)\n",
    "    \n",
    "    for m in range(h, 0, -1):        \n",
    "        if h != m and (h, m) in filtered_arcs:\n",
    "            continue\n",
    "        \n",
    "        for s in range(m - 1, -1, -1): \n",
    "            # s == 0 signals that m is the leftmost child\n",
    "            if s > 0 and (h, s) in filtered_arcs:\n",
    "                continue\n",
    "            \n",
    "            sibling_part = (h, m, s)\n",
    "            sibling_parts_left[h].append(sibling_part)\n",
    "\n",
    "# create random scores for each sibling part\n",
    "# (we can't create an array here because each head has a different number of sibling parts)\n",
    "sibling_scores_left = [np.random.normal(size=len(siblings)) \n",
    "                       for siblings in sibling_parts_left]\n",
    "sibling_scores_right = [np.random.normal(size=len(siblings)) \n",
    "                        for siblings in sibling_parts_right]"
   ]
  },
  {
   "cell_type": "markdown",
   "metadata": {},
   "source": [
    "Check that there is a score for each sibling part either in right and left hand sides"
   ]
  },
  {
   "cell_type": "code",
   "execution_count": 7,
   "metadata": {},
   "outputs": [],
   "source": [
    "def print_siblings(sibling_parts, sibling_scores):\n",
    "    for i, (head_siblings, scores) in enumerate(zip(sibling_parts, sibling_scores)):\n",
    "        print('Head', i, ': ', len(head_siblings), 'sibling parts and', len(scores), 'scores')\n",
    "        print('--------------------')\n",
    "        for sibling_part, part_score in zip(head_siblings, scores):\n",
    "            print(sibling_part, part_score)\n",
    "        print()"
   ]
  },
  {
   "cell_type": "code",
   "execution_count": 8,
   "metadata": {
    "collapsed": true
   },
   "outputs": [
    {
     "name": "stdout",
     "output_type": "stream",
     "text": [
      "Left siblings:\n",
      "Head 0 :  0 sibling parts and 0 scores\n",
      "--------------------\n",
      "\n",
      "Head 1 :  1 sibling parts and 1 scores\n",
      "--------------------\n",
      "(1, 1, 0) 0.5204535461879003\n",
      "\n",
      "Head 2 :  3 sibling parts and 3 scores\n",
      "--------------------\n",
      "(2, 2, 1) -0.33601552498299153\n",
      "(2, 2, 0) 0.25837323718400185\n",
      "(2, 1, 0) -1.5033635205127176\n",
      "\n",
      "Head 3 :  6 sibling parts and 6 scores\n",
      "--------------------\n",
      "(3, 3, 2) -0.487739206384911\n",
      "(3, 3, 1) -1.1361315057744434\n",
      "(3, 3, 0) 0.2512526124908858\n",
      "(3, 2, 1) 0.18674125561794863\n",
      "(3, 2, 0) -0.14520171412449456\n",
      "(3, 1, 0) -1.420999171516399\n",
      "\n",
      "Head 4 :  10 sibling parts and 10 scores\n",
      "--------------------\n",
      "(4, 4, 3) -0.4338401003126975\n",
      "(4, 4, 2) 0.4199875922663737\n",
      "(4, 4, 1) -1.0052312280137718\n",
      "(4, 4, 0) 0.8608856650066535\n",
      "(4, 3, 2) 1.6130727254977213\n",
      "(4, 3, 1) -0.18884877779389317\n",
      "(4, 3, 0) -1.5427211687240174\n",
      "(4, 2, 1) 0.9847884574873762\n",
      "(4, 2, 0) 1.3404670864346517\n",
      "(4, 1, 0) -0.09994757120302905\n",
      "\n",
      "\n",
      "Head 0 :  10 sibling parts and 10 scores\n",
      "--------------------\n",
      "(0, 0, 2) -0.28127183451447385\n",
      "(0, 0, 3) 0.5357774024179152\n",
      "(0, 0, 4) 1.5194605892164208\n",
      "(0, 0, 5) 0.9905113014528159\n",
      "(0, 2, 3) -0.11626066796477613\n",
      "(0, 2, 4) -1.3462619918093661\n",
      "(0, 2, 5) 1.0569047542031431\n",
      "(0, 3, 4) 0.8059422926413956\n",
      "(0, 3, 5) -0.7509829573372326\n",
      "(0, 4, 5) 0.38206122697287687\n",
      "\n",
      "Head 1 :  10 sibling parts and 10 scores\n",
      "--------------------\n",
      "(1, 1, 2) 0.40240872909614755\n",
      "(1, 1, 3) -0.8369067017661086\n",
      "(1, 1, 4) -1.2867094380563555\n",
      "(1, 1, 5) -0.9298369355317245\n",
      "(1, 2, 3) 1.8348204348266384\n",
      "(1, 2, 4) -0.4487283616330726\n",
      "(1, 2, 5) 0.30106673891824953\n",
      "(1, 3, 4) -0.02823428943321605\n",
      "(1, 3, 5) 0.3858174808558532\n",
      "(1, 4, 5) -0.37346042730048473\n",
      "\n",
      "Head 2 :  6 sibling parts and 6 scores\n",
      "--------------------\n",
      "(2, 2, 3) 1.7011806412092094\n",
      "(2, 2, 4) 0.3373351018907111\n",
      "(2, 2, 5) 1.138528650856009\n",
      "(2, 3, 4) -0.2175494952047306\n",
      "(2, 3, 5) -0.562526942989692\n",
      "(2, 4, 5) -0.6228543054806234\n",
      "\n",
      "Head 3 :  3 sibling parts and 3 scores\n",
      "--------------------\n",
      "(3, 3, 4) -0.2723651978056613\n",
      "(3, 3, 5) -0.25232841889846713\n",
      "(3, 4, 5) 0.5707697656187116\n",
      "\n",
      "Head 4 :  1 sibling parts and 1 scores\n",
      "--------------------\n",
      "(4, 4, 5) 0.5688578286168714\n",
      "\n"
     ]
    }
   ],
   "source": [
    "print('Left siblings:')\n",
    "print_siblings(sibling_parts_left, sibling_scores_left)\n",
    "print()\n",
    "print_siblings(sibling_parts_right, sibling_scores_right)"
   ]
  },
  {
   "cell_type": "markdown",
   "metadata": {},
   "source": [
    "Include sibling factors in the graph"
   ]
  },
  {
   "cell_type": "code",
   "execution_count": 9,
   "metadata": {},
   "outputs": [],
   "source": [
    "additionals = []\n",
    "\n",
    "# there is a factor for each head and side combination\n",
    "for h in range(num_tokens):\n",
    "    \n",
    "    # right hand size\n",
    "    \n",
    "    # local_vars indicates which variables are constrained by the factor\n",
    "    local_vars = []\n",
    "    local_siblings = []\n",
    "    additional_scores = []\n",
    "    local_arcs = []\n",
    "    \n",
    "    for m in range(h + 1, num_tokens):\n",
    "        index = index_arcs[h, m]\n",
    "        if index < 0:\n",
    "            continue\n",
    "\n",
    "        local_vars.append(arc_variables[index])\n",
    "        local_arcs.append((h, m))\n",
    "        \n",
    "    factor = PFactorHeadAutomaton()\n",
    "    \n",
    "    # important: first declare the factor in the graph, then initialize\n",
    "    # it may seems counter-intuitive but breaks otherwise\n",
    "    \n",
    "    # owned_by_graph must be True so that the variables don't get garbage collected\n",
    "    g.declare_factor(factor, local_vars, owned_by_graph=True)\n",
    "    factor.initialize(local_arcs, sibling_parts_right[h], validate=False)\n",
    "    factor.set_additional_log_potentials(sibling_scores_right[h])\n",
    "    additionals.extend(sibling_parts_right[h])\n",
    "    \n",
    "    # left hand size\n",
    "    if h == 0:\n",
    "        # root has no children to the left\n",
    "        continue\n",
    "        \n",
    "    local_vars = []\n",
    "    local_siblings = []\n",
    "    additional_scores = []\n",
    "    local_arcs = []\n",
    "    for m in range(h, 0, -1):\n",
    "        index = index_arcs[h, m]\n",
    "        if index < 0:\n",
    "            continue\n",
    "            \n",
    "        local_vars.append(arc_variables[index])\n",
    "        local_arcs.append((h, m))\n",
    "        \n",
    "    factor = PFactorHeadAutomaton()\n",
    "    \n",
    "    # important: first declare the factor in the graph, then initialize\n",
    "    # it may seems counter-intuitive but breaks otherwise\n",
    "    g.declare_factor(factor, local_vars, owned_by_graph=True)\n",
    "    factor.initialize(local_arcs, sibling_parts_left[h], validate=False)\n",
    "    factor.set_additional_log_potentials(sibling_scores_left[h])\n",
    "    additionals.extend(sibling_parts_left[h])"
   ]
  },
  {
   "cell_type": "markdown",
   "metadata": {},
   "source": [
    "Solve again, now with the siblings"
   ]
  },
  {
   "cell_type": "code",
   "execution_count": 10,
   "metadata": {},
   "outputs": [
    {
     "name": "stdout",
     "output_type": "stream",
     "text": [
      "20.98441602319053\n",
      "[1.0, 0.0, 0.0, 0.0, 0.0, 0.0, 1.0, 1.0, 1.0, 0.0, 0.0, 0.0, 0.0, 0.0, 0.0]\n",
      "[1.0, 0.0, 0.0, 0.0, 0.0, 0.0, 1.0, 0.0, 0.0, 0.0, 0.0, 0.0, 0.0, 1.0, 0.0, 0.0, 0.0, 0.0, 0.0, 0.0, 1.0, 1.0, 0.0, 0.0, 1.0, 0.0, 1.0, 1.0, 0.0, 1.0, 0.0, 1.0, 0.0, 0.0, 0.0, 1.0, 0.0, 0.0, 0.0, 1.0, 0.0, 0.0, 0.0, 1.0, 0.0, 0.0, 0.0, 0.0, 0.0, 0.0]\n",
      "0\n"
     ]
    }
   ],
   "source": [
    "value, posteriors, additional_posteriors, status = g.solve_exact_map_ad3()\n",
    "print(value)\n",
    "print(posteriors)\n",
    "print(additional_posteriors)\n",
    "print(status)"
   ]
  },
  {
   "cell_type": "code",
   "execution_count": 11,
   "metadata": {},
   "outputs": [
    {
     "name": "stdout",
     "output_type": "stream",
     "text": [
      "(0, 2)\n",
      "(2, 1)\n",
      "(2, 3)\n",
      "(2, 4)\n"
     ]
    }
   ],
   "source": [
    "show_selected_items(posteriors, arcs)"
   ]
  },
  {
   "cell_type": "code",
   "execution_count": 12,
   "metadata": {},
   "outputs": [
    {
     "name": "stdout",
     "output_type": "stream",
     "text": [
      "(0, 0, 2)\n",
      "(0, 2, 5)\n",
      "(1, 1, 5)\n",
      "(1, 1, 0)\n",
      "(2, 2, 3)\n",
      "(2, 3, 4)\n",
      "(2, 4, 5)\n",
      "(2, 2, 1)\n",
      "(2, 1, 0)\n",
      "(3, 3, 5)\n",
      "(3, 3, 0)\n",
      "(4, 4, 5)\n",
      "(4, 4, 0)\n"
     ]
    }
   ],
   "source": [
    "show_selected_items(additional_posteriors, additionals)"
   ]
  },
  {
   "cell_type": "code",
   "execution_count": null,
   "metadata": {},
   "outputs": [],
   "source": []
  }
 ],
 "metadata": {
  "kernelspec": {
   "display_name": "Python 3",
   "language": "python",
   "name": "python3"
  },
  "language_info": {
   "codemirror_mode": {
    "name": "ipython",
    "version": 3
   },
   "file_extension": ".py",
   "mimetype": "text/x-python",
   "name": "python",
   "nbconvert_exporter": "python",
   "pygments_lexer": "ipython3",
   "version": "3.6.6"
  }
 },
 "nbformat": 4,
 "nbformat_minor": 2
}
