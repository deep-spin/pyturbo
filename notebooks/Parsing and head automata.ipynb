{
 "cells": [
  {
   "cell_type": "markdown",
   "metadata": {},
   "source": [
    "Parsing and head automata\n",
    "----\n",
    "\n",
    "Decoding parse trees with head automata for consecutive siblings"
   ]
  },
  {
   "cell_type": "code",
   "execution_count": 1,
   "metadata": {},
   "outputs": [],
   "source": [
    "import numpy as np \n",
    "import ad3\n",
    "from ad3.extensions import PFactorTree, PFactorHeadAutomaton"
   ]
  },
  {
   "cell_type": "markdown",
   "metadata": {},
   "source": [
    "Initialize variables"
   ]
  },
  {
   "cell_type": "code",
   "execution_count": 2,
   "metadata": {},
   "outputs": [],
   "source": [
    "g = ad3.factor_graph.PFactorGraph()\n",
    "arc_variables = []\n",
    "arcs = []\n",
    "\n",
    "num_tokens = 5  # including root"
   ]
  },
  {
   "cell_type": "markdown",
   "metadata": {},
   "source": [
    "Set up scores"
   ]
  },
  {
   "cell_type": "code",
   "execution_count": 3,
   "metadata": {
    "scrolled": true
   },
   "outputs": [],
   "source": [
    "# create indices and scores from every node to all others\n",
    "scores = np.random.normal(0, 1, [num_tokens, num_tokens])\n",
    "\n",
    "# root is never a modifier\n",
    "scores[:, 0] -= 1000\n",
    "\n",
    "scores[0, 2] += 5\n",
    "scores[2, 1:] += 5"
   ]
  },
  {
   "cell_type": "markdown",
   "metadata": {},
   "source": [
    "Add the tree factor to the graph"
   ]
  },
  {
   "cell_type": "code",
   "execution_count": 4,
   "metadata": {},
   "outputs": [],
   "source": [
    "index_arcs = np.full([num_tokens, num_tokens], -1, np.int)\n",
    "\n",
    "# suppose the arc 0 -> 1 has been pruned\n",
    "filtered_arcs = set([(0, 1)])\n",
    "\n",
    "for h in range(num_tokens):\n",
    "    for m in range(1, num_tokens):\n",
    "        if h == m or (h, m) in filtered_arcs:\n",
    "            continue\n",
    "            \n",
    "        arcs.append((h, m))\n",
    "        arc_var = g.create_binary_variable()\n",
    "        arc_var.set_log_potential(scores[h, m])\n",
    "        index_arcs[h, m] = len(arc_variables)\n",
    "        arc_variables.append(arc_var)\n",
    "\n",
    "tree = PFactorTree()\n",
    "g.declare_factor(tree, arc_variables)\n",
    "tree.initialize(num_tokens, arcs)"
   ]
  },
  {
   "cell_type": "code",
   "execution_count": 5,
   "metadata": {},
   "outputs": [
    {
     "name": "stdout",
     "output_type": "stream",
     "text": [
      "(0, 2) 4.827298240886875\n",
      "(0, 3) 1.5034222682618876\n",
      "(0, 4) 1.0873765691778632\n",
      "(1, 2) -0.16082610907657346\n",
      "(1, 3) 0.710943513720957\n",
      "(1, 4) 1.1240017780850429\n",
      "(2, 1) 4.99152398174798\n",
      "(2, 3) 4.558038158837646\n",
      "(2, 4) 5.985031077477877\n",
      "(3, 1) 0.26904093592443573\n",
      "(3, 2) -0.6235655113919879\n",
      "(3, 4) -0.15193711113079478\n",
      "(4, 1) 1.5105968086408372\n",
      "(4, 2) 0.5263399549513429\n",
      "(4, 3) -0.14857711201037666\n"
     ]
    }
   ],
   "source": [
    "for arc in arcs:\n",
    "    h, m = arc\n",
    "    score = scores[h, m]\n",
    "    print(arc, score)"
   ]
  },
  {
   "cell_type": "markdown",
   "metadata": {},
   "source": [
    "Solve for the exact solution"
   ]
  },
  {
   "cell_type": "code",
   "execution_count": 6,
   "metadata": {},
   "outputs": [
    {
     "name": "stdout",
     "output_type": "stream",
     "text": [
      "20.361891458950378\n",
      "[1.0, 0.0, 0.0, 0.0, 0.0, 0.0, 1.0, 1.0, 1.0, 0.0, 0.0, 0.0, 0.0, 0.0, 0.0]\n",
      "[]\n",
      "0\n"
     ]
    }
   ],
   "source": [
    "value, posteriors, additional_posteriors, status = g.solve_exact_map_ad3()\n",
    "print(value)\n",
    "print(posteriors)\n",
    "print(additional_posteriors)\n",
    "print(status)"
   ]
  },
  {
   "cell_type": "code",
   "execution_count": 7,
   "metadata": {},
   "outputs": [],
   "source": [
    "def show_selected_items(posteriors, arcs, show_posterior=False):\n",
    "    for p, arc in zip(posteriors, arcs):\n",
    "        if p ** 2 <= 0.0001:\n",
    "            continue\n",
    "        if show_posterior:\n",
    "            print(arc, p)\n",
    "        else:\n",
    "            print(arc)\n"
   ]
  },
  {
   "cell_type": "code",
   "execution_count": 8,
   "metadata": {
    "scrolled": true
   },
   "outputs": [
    {
     "name": "stdout",
     "output_type": "stream",
     "text": [
      "(0, 2)\n",
      "(2, 1)\n",
      "(2, 3)\n",
      "(2, 4)\n"
     ]
    }
   ],
   "source": [
    "show_selected_items(posteriors, arcs)"
   ]
  },
  {
   "cell_type": "markdown",
   "metadata": {},
   "source": [
    "Now, let's add next sibling features and head automata"
   ]
  },
  {
   "cell_type": "code",
   "execution_count": 9,
   "metadata": {},
   "outputs": [],
   "source": [
    "def create_empty_lists(n):\n",
    "    \"\"\"\n",
    "    Create a list with n empty lists\n",
    "    \"\"\"\n",
    "    return [[] for _ in range(n)]\n",
    "\n",
    "\n",
    "# create all possible sibling combinations considering non-pruned arcs\n",
    "sibling_parts_left = create_empty_lists(num_tokens)\n",
    "sibling_parts_right = create_empty_lists(num_tokens)\n",
    "\n",
    "for h in range(num_tokens):\n",
    "    # right side\n",
    "    for m in range(h, num_tokens):\n",
    "        if h != m and index_arcs[h, m] == -1:\n",
    "            continue\n",
    "            \n",
    "        for s in range(m + 1, num_tokens + 1):\n",
    "            # s == num_tokens signals that m is the rightmost child\n",
    "            if s < num_tokens and index_arcs[h, s] == -1:\n",
    "                continue\n",
    "            \n",
    "            sibling_part = (h, m, s)\n",
    "            sibling_parts_right[h].append(sibling_part)\n",
    "    \n",
    "    # left side\n",
    "    if h == 0:\n",
    "        # root has no children to the left\n",
    "        continue\n",
    "        \n",
    "    for m in range(h, 0, -1):        \n",
    "        if h != m and (h, m) in filtered_arcs:\n",
    "            continue\n",
    "        \n",
    "        for s in range(m - 1, -1, -1): \n",
    "            # s == 0 signals that m is the leftmost child\n",
    "            if s > 0 and (h, s) in filtered_arcs:\n",
    "                continue\n",
    "            \n",
    "            sibling_part = (h, m, s)\n",
    "            sibling_parts_left[h].append(sibling_part)\n",
    "\n",
    "# create random scores for each sibling part\n",
    "# (we can't create an array here because each head has a different number of sibling parts)\n",
    "sibling_scores_left = [np.random.normal(size=len(siblings)) \n",
    "                       for siblings in sibling_parts_left]\n",
    "sibling_scores_right = [np.random.normal(size=len(siblings)) \n",
    "                        for siblings in sibling_parts_right]"
   ]
  },
  {
   "cell_type": "markdown",
   "metadata": {},
   "source": [
    "Include sibling factors in the graph"
   ]
  },
  {
   "cell_type": "code",
   "execution_count": 10,
   "metadata": {},
   "outputs": [],
   "source": [
    "factors = []\n",
    "additionals = []\n",
    "\n",
    "# there is a factor for each head and side combination\n",
    "for h in range(num_tokens):\n",
    "    \n",
    "    # right hand size\n",
    "    \n",
    "    # local_vars indicates which variables are constrained by the factor\n",
    "    local_vars = []\n",
    "    local_siblings = []\n",
    "    additional_scores = []\n",
    "    local_arcs = []\n",
    "    \n",
    "    for m in range(h + 1, num_tokens):\n",
    "        index = index_arcs[h, m]\n",
    "        if index < 0:\n",
    "            continue\n",
    "\n",
    "        local_vars.append(arc_variables[index])\n",
    "        local_arcs.append((h, m))\n",
    "        \n",
    "    factor = PFactorHeadAutomaton()\n",
    "    factors.append(factor)\n",
    "    \n",
    "    # important: first declare the factor in the graph, then initialize\n",
    "    # it may seems counter-intuitive but breaks otherwise\n",
    "    g.declare_factor(factor, local_vars)\n",
    "    length = num_tokens - h if h > 0 else num_tokens - 1\n",
    "    factor.initialize(local_arcs, sibling_parts_right[h], validate=False)\n",
    "    factor.set_additional_log_potentials(sibling_scores_right[h])\n",
    "    additionals.extend(sibling_parts_right[h])\n",
    "    \n",
    "    # left hand size\n",
    "    if h == 0:\n",
    "        # root has no children to the left\n",
    "        continue\n",
    "        \n",
    "    local_vars = []\n",
    "    local_siblings = []\n",
    "    additional_scores = []\n",
    "    local_arcs = []\n",
    "    for m in range(h, 0, -1):\n",
    "        index = index_arcs[h, m]\n",
    "        if index < 0:\n",
    "            continue\n",
    "            \n",
    "        local_vars.append(arc_variables[index])\n",
    "        local_arcs.append((h, m))\n",
    "        \n",
    "    factor = PFactorHeadAutomaton()\n",
    "    factors.append(factor)\n",
    "    \n",
    "    # important: first declare the factor in the graph, then initialize\n",
    "    # it may seems counter-intuitive but breaks otherwise\n",
    "    g.declare_factor(factor, local_vars)\n",
    "    factor.initialize(local_arcs, sibling_parts_left[h], validate=False)\n",
    "    factor.set_additional_log_potentials(sibling_scores_right[h])\n",
    "    additionals.extend(sibling_parts_left[h])"
   ]
  },
  {
   "cell_type": "markdown",
   "metadata": {},
   "source": [
    "Solve again, now with the siblings"
   ]
  },
  {
   "cell_type": "code",
   "execution_count": 11,
   "metadata": {},
   "outputs": [
    {
     "name": "stdout",
     "output_type": "stream",
     "text": [
      "3.739708487905299\n",
      "[2.220446049250313e-16, 0.0, 0.9999999999999991, 0.0, 0.0, 0.0, 0.0, 0.9999999999999997, 0.0, 0.0, 0.0, 0.0, 0.9999999999999997, 0.9999999999999997, 0.0]\n",
      "[0.0, 0.0, 0.9999999999999989, 0.0, 0.0, 0.0, 0.0, 0.0, 0.0, 0.9999999999999989, 0.0, 0.0, 0.0, 1.0, 0.0, 0.0, 0.0, 0.0, 0.0, 0.0, 1.0, 0.0, 0.0, 0.0, 0.0, 0.0, 0.0, 0.0, 0.0, 0.0, 1.0, 0.0, 0.0, 0.0, 1.0, 0.0, 0.0, 1.0, 0.0, 0.0, 0.0, 0.0, 0.0, 1.0, 0.0, 0.0, 0.0, 1.0, 1.0, 0.0]\n",
      "0\n"
     ]
    }
   ],
   "source": [
    "value, posteriors, additional_posteriors, status = g.solve_exact_map_ad3()\n",
    "print(value)\n",
    "print(posteriors)\n",
    "print(additional_posteriors)\n",
    "print(status)"
   ]
  },
  {
   "cell_type": "code",
   "execution_count": 12,
   "metadata": {},
   "outputs": [
    {
     "name": "stdout",
     "output_type": "stream",
     "text": [
      "(0, 4)\n",
      "(2, 3)\n",
      "(4, 1)\n",
      "(4, 2)\n"
     ]
    }
   ],
   "source": [
    "show_selected_items(posteriors, arcs)"
   ]
  },
  {
   "cell_type": "code",
   "execution_count": 13,
   "metadata": {},
   "outputs": [
    {
     "name": "stdout",
     "output_type": "stream",
     "text": [
      "(0, 0, 4)\n",
      "(0, 4, 5)\n",
      "(1, 1, 5)\n",
      "(1, 1, 0)\n",
      "(3, 3, 4)\n",
      "(3, 3, 1)\n",
      "(3, 2, 0)\n",
      "(4, 4, 0)\n",
      "(4, 2, 1)\n",
      "(4, 2, 0)\n"
     ]
    }
   ],
   "source": [
    "show_selected_items(additional_posteriors, additionals)"
   ]
  }
 ],
 "metadata": {
  "kernelspec": {
   "display_name": "Python 3",
   "language": "python",
   "name": "python3"
  },
  "language_info": {
   "codemirror_mode": {
    "name": "ipython",
    "version": 3
   },
   "file_extension": ".py",
   "mimetype": "text/x-python",
   "name": "python",
   "nbconvert_exporter": "python",
   "pygments_lexer": "ipython3",
   "version": "3.6.6"
  }
 },
 "nbformat": 4,
 "nbformat_minor": 2
}
